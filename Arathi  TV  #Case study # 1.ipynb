{
 "cells": [
  {
   "cell_type": "markdown",
   "id": "58cd9dab",
   "metadata": {},
   "source": [
    "# Case Study on Regression"
   ]
  },
  {
   "cell_type": "markdown",
   "id": "b20e82f7",
   "metadata": {},
   "source": [
    "## "
   ]
  },
  {
   "cell_type": "markdown",
   "id": "6527f52c",
   "metadata": {},
   "source": [
    "\n",
    "## The given dataset contains price of second-hand Hyundai grand i10 car with respect to year of making. Find the best linear relationship between year and price. Can you predict the possible price of a 2022 model second-hand grand i10?\n",
    "\n",
    "## Please learn about lasso regression and create a model along with linear regression. Find out which one is performing better.\n",
    "\n",
    "\n",
    "\n",
    "\n",
    "\n"
   ]
  },
  {
   "cell_type": "markdown",
   "id": "be71f0af",
   "metadata": {},
   "source": [
    "## "
   ]
  },
  {
   "cell_type": "code",
   "execution_count": 1,
   "id": "fd46a288",
   "metadata": {},
   "outputs": [],
   "source": [
    "# importing libraries\n",
    "import pandas as pd\n",
    "import matplotlib .pyplot as plt\n",
    "import seaborn as sns"
   ]
  },
  {
   "cell_type": "code",
   "execution_count": 2,
   "id": "4384bdcd",
   "metadata": {},
   "outputs": [],
   "source": [
    "# importing dataset\n",
    "data = pd.read_csv(r'C:\\Users\\Arathi\\Downloads\\car_age_price.csv')"
   ]
  },
  {
   "cell_type": "code",
   "execution_count": 3,
   "id": "3bc69950",
   "metadata": {},
   "outputs": [
    {
     "data": {
      "text/html": [
       "<div>\n",
       "<style scoped>\n",
       "    .dataframe tbody tr th:only-of-type {\n",
       "        vertical-align: middle;\n",
       "    }\n",
       "\n",
       "    .dataframe tbody tr th {\n",
       "        vertical-align: top;\n",
       "    }\n",
       "\n",
       "    .dataframe thead th {\n",
       "        text-align: right;\n",
       "    }\n",
       "</style>\n",
       "<table border=\"1\" class=\"dataframe\">\n",
       "  <thead>\n",
       "    <tr style=\"text-align: right;\">\n",
       "      <th></th>\n",
       "      <th>Year</th>\n",
       "      <th>Price</th>\n",
       "    </tr>\n",
       "  </thead>\n",
       "  <tbody>\n",
       "    <tr>\n",
       "      <th>0</th>\n",
       "      <td>2018</td>\n",
       "      <td>465000</td>\n",
       "    </tr>\n",
       "    <tr>\n",
       "      <th>1</th>\n",
       "      <td>2019</td>\n",
       "      <td>755000</td>\n",
       "    </tr>\n",
       "    <tr>\n",
       "      <th>2</th>\n",
       "      <td>2019</td>\n",
       "      <td>700000</td>\n",
       "    </tr>\n",
       "    <tr>\n",
       "      <th>3</th>\n",
       "      <td>2018</td>\n",
       "      <td>465000</td>\n",
       "    </tr>\n",
       "    <tr>\n",
       "      <th>4</th>\n",
       "      <td>2018</td>\n",
       "      <td>465000</td>\n",
       "    </tr>\n",
       "    <tr>\n",
       "      <th>...</th>\n",
       "      <td>...</td>\n",
       "      <td>...</td>\n",
       "    </tr>\n",
       "    <tr>\n",
       "      <th>107</th>\n",
       "      <td>2016</td>\n",
       "      <td>375000</td>\n",
       "    </tr>\n",
       "    <tr>\n",
       "      <th>108</th>\n",
       "      <td>2014</td>\n",
       "      <td>300000</td>\n",
       "    </tr>\n",
       "    <tr>\n",
       "      <th>109</th>\n",
       "      <td>2015</td>\n",
       "      <td>425000</td>\n",
       "    </tr>\n",
       "    <tr>\n",
       "      <th>110</th>\n",
       "      <td>2016</td>\n",
       "      <td>420000</td>\n",
       "    </tr>\n",
       "    <tr>\n",
       "      <th>111</th>\n",
       "      <td>2015</td>\n",
       "      <td>425000</td>\n",
       "    </tr>\n",
       "  </tbody>\n",
       "</table>\n",
       "<p>112 rows × 2 columns</p>\n",
       "</div>"
      ],
      "text/plain": [
       "     Year   Price\n",
       "0    2018  465000\n",
       "1    2019  755000\n",
       "2    2019  700000\n",
       "3    2018  465000\n",
       "4    2018  465000\n",
       "..    ...     ...\n",
       "107  2016  375000\n",
       "108  2014  300000\n",
       "109  2015  425000\n",
       "110  2016  420000\n",
       "111  2015  425000\n",
       "\n",
       "[112 rows x 2 columns]"
      ]
     },
     "execution_count": 3,
     "metadata": {},
     "output_type": "execute_result"
    }
   ],
   "source": [
    "data"
   ]
  },
  {
   "cell_type": "code",
   "execution_count": 4,
   "id": "1bc8ec66",
   "metadata": {},
   "outputs": [
    {
     "data": {
      "text/html": [
       "<div>\n",
       "<style scoped>\n",
       "    .dataframe tbody tr th:only-of-type {\n",
       "        vertical-align: middle;\n",
       "    }\n",
       "\n",
       "    .dataframe tbody tr th {\n",
       "        vertical-align: top;\n",
       "    }\n",
       "\n",
       "    .dataframe thead th {\n",
       "        text-align: right;\n",
       "    }\n",
       "</style>\n",
       "<table border=\"1\" class=\"dataframe\">\n",
       "  <thead>\n",
       "    <tr style=\"text-align: right;\">\n",
       "      <th></th>\n",
       "      <th>Year</th>\n",
       "      <th>Price</th>\n",
       "    </tr>\n",
       "  </thead>\n",
       "  <tbody>\n",
       "    <tr>\n",
       "      <th>0</th>\n",
       "      <td>2018</td>\n",
       "      <td>465000</td>\n",
       "    </tr>\n",
       "    <tr>\n",
       "      <th>1</th>\n",
       "      <td>2019</td>\n",
       "      <td>755000</td>\n",
       "    </tr>\n",
       "    <tr>\n",
       "      <th>2</th>\n",
       "      <td>2019</td>\n",
       "      <td>700000</td>\n",
       "    </tr>\n",
       "    <tr>\n",
       "      <th>3</th>\n",
       "      <td>2018</td>\n",
       "      <td>465000</td>\n",
       "    </tr>\n",
       "    <tr>\n",
       "      <th>4</th>\n",
       "      <td>2018</td>\n",
       "      <td>465000</td>\n",
       "    </tr>\n",
       "  </tbody>\n",
       "</table>\n",
       "</div>"
      ],
      "text/plain": [
       "   Year   Price\n",
       "0  2018  465000\n",
       "1  2019  755000\n",
       "2  2019  700000\n",
       "3  2018  465000\n",
       "4  2018  465000"
      ]
     },
     "execution_count": 4,
     "metadata": {},
     "output_type": "execute_result"
    }
   ],
   "source": [
    "data.head()"
   ]
  },
  {
   "cell_type": "code",
   "execution_count": 5,
   "id": "56bc42f9",
   "metadata": {},
   "outputs": [
    {
     "data": {
      "text/html": [
       "<div>\n",
       "<style scoped>\n",
       "    .dataframe tbody tr th:only-of-type {\n",
       "        vertical-align: middle;\n",
       "    }\n",
       "\n",
       "    .dataframe tbody tr th {\n",
       "        vertical-align: top;\n",
       "    }\n",
       "\n",
       "    .dataframe thead th {\n",
       "        text-align: right;\n",
       "    }\n",
       "</style>\n",
       "<table border=\"1\" class=\"dataframe\">\n",
       "  <thead>\n",
       "    <tr style=\"text-align: right;\">\n",
       "      <th></th>\n",
       "      <th>Year</th>\n",
       "      <th>Price</th>\n",
       "    </tr>\n",
       "  </thead>\n",
       "  <tbody>\n",
       "    <tr>\n",
       "      <th>107</th>\n",
       "      <td>2016</td>\n",
       "      <td>375000</td>\n",
       "    </tr>\n",
       "    <tr>\n",
       "      <th>108</th>\n",
       "      <td>2014</td>\n",
       "      <td>300000</td>\n",
       "    </tr>\n",
       "    <tr>\n",
       "      <th>109</th>\n",
       "      <td>2015</td>\n",
       "      <td>425000</td>\n",
       "    </tr>\n",
       "    <tr>\n",
       "      <th>110</th>\n",
       "      <td>2016</td>\n",
       "      <td>420000</td>\n",
       "    </tr>\n",
       "    <tr>\n",
       "      <th>111</th>\n",
       "      <td>2015</td>\n",
       "      <td>425000</td>\n",
       "    </tr>\n",
       "  </tbody>\n",
       "</table>\n",
       "</div>"
      ],
      "text/plain": [
       "     Year   Price\n",
       "107  2016  375000\n",
       "108  2014  300000\n",
       "109  2015  425000\n",
       "110  2016  420000\n",
       "111  2015  425000"
      ]
     },
     "execution_count": 5,
     "metadata": {},
     "output_type": "execute_result"
    }
   ],
   "source": [
    "data.tail()"
   ]
  },
  {
   "cell_type": "code",
   "execution_count": 6,
   "id": "1a7ccfda",
   "metadata": {},
   "outputs": [
    {
     "data": {
      "text/html": [
       "<div>\n",
       "<style scoped>\n",
       "    .dataframe tbody tr th:only-of-type {\n",
       "        vertical-align: middle;\n",
       "    }\n",
       "\n",
       "    .dataframe tbody tr th {\n",
       "        vertical-align: top;\n",
       "    }\n",
       "\n",
       "    .dataframe thead th {\n",
       "        text-align: right;\n",
       "    }\n",
       "</style>\n",
       "<table border=\"1\" class=\"dataframe\">\n",
       "  <thead>\n",
       "    <tr style=\"text-align: right;\">\n",
       "      <th></th>\n",
       "      <th>Year</th>\n",
       "      <th>Price</th>\n",
       "    </tr>\n",
       "  </thead>\n",
       "  <tbody>\n",
       "    <tr>\n",
       "      <th>count</th>\n",
       "      <td>112.000000</td>\n",
       "      <td>112.000000</td>\n",
       "    </tr>\n",
       "    <tr>\n",
       "      <th>mean</th>\n",
       "      <td>2016.669643</td>\n",
       "      <td>483866.044643</td>\n",
       "    </tr>\n",
       "    <tr>\n",
       "      <th>std</th>\n",
       "      <td>1.629616</td>\n",
       "      <td>91217.450533</td>\n",
       "    </tr>\n",
       "    <tr>\n",
       "      <th>min</th>\n",
       "      <td>2013.000000</td>\n",
       "      <td>300000.000000</td>\n",
       "    </tr>\n",
       "    <tr>\n",
       "      <th>25%</th>\n",
       "      <td>2015.000000</td>\n",
       "      <td>423750.000000</td>\n",
       "    </tr>\n",
       "    <tr>\n",
       "      <th>50%</th>\n",
       "      <td>2017.000000</td>\n",
       "      <td>500000.000000</td>\n",
       "    </tr>\n",
       "    <tr>\n",
       "      <th>75%</th>\n",
       "      <td>2017.000000</td>\n",
       "      <td>550000.000000</td>\n",
       "    </tr>\n",
       "    <tr>\n",
       "      <th>max</th>\n",
       "      <td>2020.000000</td>\n",
       "      <td>755000.000000</td>\n",
       "    </tr>\n",
       "  </tbody>\n",
       "</table>\n",
       "</div>"
      ],
      "text/plain": [
       "              Year          Price\n",
       "count   112.000000     112.000000\n",
       "mean   2016.669643  483866.044643\n",
       "std       1.629616   91217.450533\n",
       "min    2013.000000  300000.000000\n",
       "25%    2015.000000  423750.000000\n",
       "50%    2017.000000  500000.000000\n",
       "75%    2017.000000  550000.000000\n",
       "max    2020.000000  755000.000000"
      ]
     },
     "execution_count": 6,
     "metadata": {},
     "output_type": "execute_result"
    }
   ],
   "source": [
    "data.describe()"
   ]
  },
  {
   "cell_type": "code",
   "execution_count": 7,
   "id": "5534f7f3",
   "metadata": {},
   "outputs": [
    {
     "data": {
      "text/plain": [
       "2017    47\n",
       "2015    22\n",
       "2019    12\n",
       "2018    11\n",
       "2016     6\n",
       "2014     6\n",
       "2020     4\n",
       "2013     4\n",
       "Name: Year, dtype: int64"
      ]
     },
     "execution_count": 7,
     "metadata": {},
     "output_type": "execute_result"
    }
   ],
   "source": [
    "data['Year'].value_counts() "
   ]
  },
  {
   "cell_type": "code",
   "execution_count": 8,
   "id": "5ab50478",
   "metadata": {},
   "outputs": [
    {
     "data": {
      "text/plain": [
       "array([465000, 755000, 700000, 350000, 425000, 575000, 509999, 500000,\n",
       "       600000, 475000, 550000, 434999, 650000, 450000, 486000, 545000,\n",
       "       525000, 396000, 325000, 345000, 341000, 490000, 540000, 595000,\n",
       "       495000, 400000, 300000, 320000, 409999, 390000, 480000, 520000,\n",
       "       640000, 375000, 420000], dtype=int64)"
      ]
     },
     "execution_count": 8,
     "metadata": {},
     "output_type": "execute_result"
    }
   ],
   "source": [
    "data['Price'].unique()"
   ]
  },
  {
   "cell_type": "code",
   "execution_count": 9,
   "id": "a9d10169",
   "metadata": {},
   "outputs": [
    {
     "data": {
      "text/plain": [
       "<bound method DataFrame.info of      Year   Price\n",
       "0    2018  465000\n",
       "1    2019  755000\n",
       "2    2019  700000\n",
       "3    2018  465000\n",
       "4    2018  465000\n",
       "..    ...     ...\n",
       "107  2016  375000\n",
       "108  2014  300000\n",
       "109  2015  425000\n",
       "110  2016  420000\n",
       "111  2015  425000\n",
       "\n",
       "[112 rows x 2 columns]>"
      ]
     },
     "execution_count": 9,
     "metadata": {},
     "output_type": "execute_result"
    }
   ],
   "source": [
    "data.info"
   ]
  },
  {
   "cell_type": "code",
   "execution_count": 10,
   "id": "56696404",
   "metadata": {},
   "outputs": [
    {
     "data": {
      "text/plain": [
       "Year     int64\n",
       "Price    int64\n",
       "dtype: object"
      ]
     },
     "execution_count": 10,
     "metadata": {},
     "output_type": "execute_result"
    }
   ],
   "source": [
    "# shape of the data\n",
    "data.dtypes"
   ]
  },
  {
   "cell_type": "code",
   "execution_count": 11,
   "id": "18f91fe8",
   "metadata": {},
   "outputs": [
    {
     "data": {
      "text/plain": [
       "Year     0\n",
       "Price    0\n",
       "dtype: int64"
      ]
     },
     "execution_count": 11,
     "metadata": {},
     "output_type": "execute_result"
    }
   ],
   "source": [
    "# checking for null values\n",
    "data.isna().sum()"
   ]
  },
  {
   "cell_type": "code",
   "execution_count": 12,
   "id": "2fccc04f",
   "metadata": {
    "scrolled": true
   },
   "outputs": [],
   "source": [
    "# there are no null values in this dataset"
   ]
  },
  {
   "cell_type": "code",
   "execution_count": null,
   "id": "4a7cebbd",
   "metadata": {},
   "outputs": [],
   "source": []
  },
  {
   "cell_type": "code",
   "execution_count": 13,
   "id": "2c757ce1",
   "metadata": {},
   "outputs": [
    {
     "data": {
      "text/plain": [
       "<AxesSubplot:title={'center':'scatterplot of Year and Price  percentage'}, xlabel='Year', ylabel='Price'>"
      ]
     },
     "execution_count": 13,
     "metadata": {},
     "output_type": "execute_result"
    },
    {
     "data": {
      "image/png": "[encoded data removed]",
      "text/plain": [
       "<Figure size 432x288 with 1 Axes>"
      ]
     },
     "metadata": {
      "needs_background": "light"
     },
     "output_type": "display_data"
    }
   ],
   "source": [
    "data.plot.scatter(x='Year',y='Price', title='scatterplot of Year and Price  percentage')\n"
   ]
  },
  {
   "cell_type": "code",
   "execution_count": 14,
   "id": "c6161992",
   "metadata": {},
   "outputs": [
    {
     "data": {
      "image/png": "[encoded data removed]",
      "text/plain": [
       "<Figure size 360x360 with 6 Axes>"
      ]
     },
     "metadata": {
      "needs_background": "light"
     },
     "output_type": "display_data"
    }
   ],
   "source": [
    "sns.pairplot(data)\n",
    "plt.show()"
   ]
  },
  {
   "cell_type": "code",
   "execution_count": 15,
   "id": "0adab2a3",
   "metadata": {
    "scrolled": true
   },
   "outputs": [
    {
     "name": "stdout",
     "output_type": "stream",
     "text": [
      "x is 0      2018\n",
      "1      2019\n",
      "2      2019\n",
      "3      2018\n",
      "4      2018\n",
      "       ... \n",
      "107    2016\n",
      "108    2014\n",
      "109    2015\n",
      "110    2016\n",
      "111    2015\n",
      "Name: Year, Length: 112, dtype: int64\n",
      "y is 0      465000\n",
      "1      755000\n",
      "2      700000\n",
      "3      465000\n",
      "4      465000\n",
      "        ...  \n",
      "107    375000\n",
      "108    300000\n",
      "109    425000\n",
      "110    420000\n",
      "111    425000\n",
      "Name: Price, Length: 112, dtype: int64\n"
     ]
    }
   ],
   "source": [
    "# split into x and y variable ( x=feature - y=target)\n",
    "\n",
    "x = data['Year']\n",
    "y = data['Price']\n",
    "print('x is', x)\n",
    "print('y is', y)"
   ]
  },
  {
   "cell_type": "code",
   "execution_count": 16,
   "id": "b32ede87",
   "metadata": {},
   "outputs": [
    {
     "data": {
      "text/plain": [
       "<AxesSubplot:>"
      ]
     },
     "execution_count": 16,
     "metadata": {},
     "output_type": "execute_result"
    },
    {
     "data": {
      "image/png": "[encoded data removed]",
      "text/plain": [
       "<Figure size 720x576 with 2 Axes>"
      ]
     },
     "metadata": {
      "needs_background": "light"
     },
     "output_type": "display_data"
    }
   ],
   "source": [
    "# correlation matrix   , heatmap\n",
    "corrmatrix =data.corr()\n",
    "plt.subplots(figsize=(10,8))\n",
    "sns.heatmap(corrmatrix, annot=True)"
   ]
  },
  {
   "cell_type": "code",
   "execution_count": 17,
   "id": "8f154d03",
   "metadata": {},
   "outputs": [
    {
     "data": {
      "text/plain": [
       "0.7237639003348305"
      ]
     },
     "execution_count": 17,
     "metadata": {},
     "output_type": "execute_result"
    }
   ],
   "source": [
    "# find the correlation btween x,y using  the librarie spearman\n",
    "x.corr(y,method='spearman') # spearman's cho"
   ]
  },
  {
   "cell_type": "code",
   "execution_count": 18,
   "id": "19d5e8d9",
   "metadata": {},
   "outputs": [
    {
     "name": "stdout",
     "output_type": "stream",
     "text": [
      "[465000 755000 700000 465000 465000 350000 425000 575000 509999 575000\n",
      " 500000 500000 500000 600000 475000 500000 500000 550000 500000 500000\n",
      " 500000 500000 434999 550000 550000 550000 550000 550000 550000 550000\n",
      " 650000 550000 550000 550000 450000 550000 550000 486000 475000 545000\n",
      " 525000 600000 550000 550000 550000 450000 500000 450000 396000 600000\n",
      " 325000 550000 345000 345000 525000 550000 341000 550000 450000 550000\n",
      " 490000 540000 540000 595000 490000 495000 525000 400000 465000 300000\n",
      " 450000 490000 300000 320000 490000 490000 450000 325000 409999 400000\n",
      " 390000 390000 390000 480000 325000 320000 520000 520000 520000 520000\n",
      " 520000 520000 520000 520000 520000 520000 520000 640000 700000 600000\n",
      " 350000 400000 350000 375000 400000 400000 300000 375000 300000 425000\n",
      " 420000 425000]\n"
     ]
    }
   ],
   "source": [
    "# fetching the values from the given column\n",
    "print(data['Price'].values)"
   ]
  },
  {
   "cell_type": "code",
   "execution_count": 19,
   "id": "0439ddb9",
   "metadata": {},
   "outputs": [
    {
     "name": "stdout",
     "output_type": "stream",
     "text": [
      "expected format is: \n",
      " [[465000]\n",
      " [755000]\n",
      " [700000]\n",
      " [465000]\n",
      " [465000]\n",
      " [350000]\n",
      " [425000]\n",
      " [575000]\n",
      " [509999]\n",
      " [575000]\n",
      " [500000]\n",
      " [500000]\n",
      " [500000]\n",
      " [600000]\n",
      " [475000]\n",
      " [500000]\n",
      " [500000]\n",
      " [550000]\n",
      " [500000]\n",
      " [500000]\n",
      " [500000]\n",
      " [500000]\n",
      " [434999]\n",
      " [550000]\n",
      " [550000]\n",
      " [550000]\n",
      " [550000]\n",
      " [550000]\n",
      " [550000]\n",
      " [550000]\n",
      " [650000]\n",
      " [550000]\n",
      " [550000]\n",
      " [550000]\n",
      " [450000]\n",
      " [550000]\n",
      " [550000]\n",
      " [486000]\n",
      " [475000]\n",
      " [545000]\n",
      " [525000]\n",
      " [600000]\n",
      " [550000]\n",
      " [550000]\n",
      " [550000]\n",
      " [450000]\n",
      " [500000]\n",
      " [450000]\n",
      " [396000]\n",
      " [600000]\n",
      " [325000]\n",
      " [550000]\n",
      " [345000]\n",
      " [345000]\n",
      " [525000]\n",
      " [550000]\n",
      " [341000]\n",
      " [550000]\n",
      " [450000]\n",
      " [550000]\n",
      " [490000]\n",
      " [540000]\n",
      " [540000]\n",
      " [595000]\n",
      " [490000]\n",
      " [495000]\n",
      " [525000]\n",
      " [400000]\n",
      " [465000]\n",
      " [300000]\n",
      " [450000]\n",
      " [490000]\n",
      " [300000]\n",
      " [320000]\n",
      " [490000]\n",
      " [490000]\n",
      " [450000]\n",
      " [325000]\n",
      " [409999]\n",
      " [400000]\n",
      " [390000]\n",
      " [390000]\n",
      " [390000]\n",
      " [480000]\n",
      " [325000]\n",
      " [320000]\n",
      " [520000]\n",
      " [520000]\n",
      " [520000]\n",
      " [520000]\n",
      " [520000]\n",
      " [520000]\n",
      " [520000]\n",
      " [520000]\n",
      " [520000]\n",
      " [520000]\n",
      " [520000]\n",
      " [640000]\n",
      " [700000]\n",
      " [600000]\n",
      " [350000]\n",
      " [400000]\n",
      " [350000]\n",
      " [375000]\n",
      " [400000]\n",
      " [400000]\n",
      " [300000]\n",
      " [375000]\n",
      " [300000]\n",
      " [425000]\n",
      " [420000]\n",
      " [425000]]\n"
     ]
    }
   ],
   "source": [
    "# reshaping it to  our expected format to feed into the model\n",
    "print('expected format is: \\n' , data['Price'].values.reshape(-1,1))\n",
    "\n",
    "x = data['Year'].values.reshape(-1,1)\n",
    "y = data['Price'].values.reshape(-1,1)"
   ]
  },
  {
   "cell_type": "code",
   "execution_count": null,
   "id": "4e0c79d3",
   "metadata": {},
   "outputs": [],
   "source": []
  },
  {
   "cell_type": "code",
   "execution_count": null,
   "id": "a20f9209",
   "metadata": {},
   "outputs": [],
   "source": []
  },
  {
   "cell_type": "markdown",
   "id": "4a230c6f",
   "metadata": {},
   "source": [
    "### Applying linear regression on the train data and predicting using x_test"
   ]
  },
  {
   "cell_type": "code",
   "execution_count": null,
   "id": "38ee1fbd",
   "metadata": {},
   "outputs": [],
   "source": []
  },
  {
   "cell_type": "code",
   "execution_count": 20,
   "id": "fed92d32",
   "metadata": {},
   "outputs": [],
   "source": [
    "# importing libraries\n",
    "\n",
    "from sklearn.linear_model import LinearRegression\n",
    "from sklearn.model_selection import train_test_split"
   ]
  },
  {
   "cell_type": "code",
   "execution_count": 21,
   "id": "a1e23c12",
   "metadata": {},
   "outputs": [],
   "source": [
    "# splitting the data into training and testing set\n",
    "\n",
    "x_train, x_test, y_train , y_test = train_test_split(x,y,test_size=0.1,random_state=50)"
   ]
  },
  {
   "cell_type": "code",
   "execution_count": 22,
   "id": "6481f5ab",
   "metadata": {
    "scrolled": false
   },
   "outputs": [
    {
     "name": "stdout",
     "output_type": "stream",
     "text": [
      "x train is \n",
      " [[2017]\n",
      " [2019]\n",
      " [2020]\n",
      " [2015]\n",
      " [2017]\n",
      " [2014]\n",
      " [2015]\n",
      " [2020]\n",
      " [2017]\n",
      " [2017]\n",
      " [2019]\n",
      " [2018]\n",
      " [2018]\n",
      " [2017]\n",
      " [2017]\n",
      " [2017]\n",
      " [2019]\n",
      " [2013]\n",
      " [2015]\n",
      " [2013]\n",
      " [2015]\n",
      " [2015]\n",
      " [2017]\n",
      " [2017]\n",
      " [2014]\n",
      " [2015]\n",
      " [2015]\n",
      " [2017]\n",
      " [2014]\n",
      " [2017]\n",
      " [2017]\n",
      " [2017]\n",
      " [2017]\n",
      " [2017]\n",
      " [2017]\n",
      " [2017]\n",
      " [2019]\n",
      " [2017]\n",
      " [2013]\n",
      " [2014]\n",
      " [2018]\n",
      " [2017]\n",
      " [2017]\n",
      " [2020]\n",
      " [2017]\n",
      " [2017]\n",
      " [2017]\n",
      " [2019]\n",
      " [2019]\n",
      " [2017]\n",
      " [2017]\n",
      " [2017]\n",
      " [2017]\n",
      " [2015]\n",
      " [2016]\n",
      " [2015]\n",
      " [2015]\n",
      " [2018]\n",
      " [2018]\n",
      " [2019]\n",
      " [2015]\n",
      " [2015]\n",
      " [2017]\n",
      " [2015]\n",
      " [2016]\n",
      " [2020]\n",
      " [2019]\n",
      " [2015]\n",
      " [2016]\n",
      " [2017]\n",
      " [2017]\n",
      " [2015]\n",
      " [2019]\n",
      " [2015]\n",
      " [2018]\n",
      " [2017]\n",
      " [2019]\n",
      " [2018]\n",
      " [2016]\n",
      " [2017]\n",
      " [2017]\n",
      " [2017]\n",
      " [2017]\n",
      " [2017]\n",
      " [2015]\n",
      " [2015]\n",
      " [2017]\n",
      " [2017]\n",
      " [2019]\n",
      " [2015]\n",
      " [2015]\n",
      " [2014]\n",
      " [2015]\n",
      " [2015]\n",
      " [2018]\n",
      " [2017]\n",
      " [2017]\n",
      " [2018]\n",
      " [2017]\n",
      " [2016]]\n",
      "y train is\n",
      " [[450000]\n",
      " [550000]\n",
      " [700000]\n",
      " [300000]\n",
      " [550000]\n",
      " [300000]\n",
      " [325000]\n",
      " [545000]\n",
      " [500000]\n",
      " [540000]\n",
      " [500000]\n",
      " [475000]\n",
      " [465000]\n",
      " [520000]\n",
      " [500000]\n",
      " [509999]\n",
      " [525000]\n",
      " [345000]\n",
      " [325000]\n",
      " [320000]\n",
      " [350000]\n",
      " [300000]\n",
      " [475000]\n",
      " [520000]\n",
      " [341000]\n",
      " [425000]\n",
      " [390000]\n",
      " [595000]\n",
      " [400000]\n",
      " [520000]\n",
      " [550000]\n",
      " [550000]\n",
      " [486000]\n",
      " [525000]\n",
      " [550000]\n",
      " [575000]\n",
      " [755000]\n",
      " [480000]\n",
      " [345000]\n",
      " [390000]\n",
      " [450000]\n",
      " [550000]\n",
      " [520000]\n",
      " [640000]\n",
      " [550000]\n",
      " [550000]\n",
      " [575000]\n",
      " [600000]\n",
      " [500000]\n",
      " [550000]\n",
      " [550000]\n",
      " [550000]\n",
      " [375000]\n",
      " [450000]\n",
      " [420000]\n",
      " [425000]\n",
      " [300000]\n",
      " [465000]\n",
      " [550000]\n",
      " [500000]\n",
      " [390000]\n",
      " [400000]\n",
      " [525000]\n",
      " [490000]\n",
      " [375000]\n",
      " [600000]\n",
      " [650000]\n",
      " [400000]\n",
      " [350000]\n",
      " [500000]\n",
      " [520000]\n",
      " [490000]\n",
      " [600000]\n",
      " [320000]\n",
      " [600000]\n",
      " [550000]\n",
      " [550000]\n",
      " [500000]\n",
      " [425000]\n",
      " [520000]\n",
      " [550000]\n",
      " [520000]\n",
      " [520000]\n",
      " [550000]\n",
      " [409999]\n",
      " [465000]\n",
      " [490000]\n",
      " [520000]\n",
      " [700000]\n",
      " [350000]\n",
      " [434999]\n",
      " [400000]\n",
      " [400000]\n",
      " [450000]\n",
      " [465000]\n",
      " [520000]\n",
      " [550000]\n",
      " [500000]\n",
      " [520000]\n",
      " [396000]]\n"
     ]
    }
   ],
   "source": [
    "print('x train is \\n', x_train)\n",
    "print('y train is\\n', y_train)"
   ]
  },
  {
   "cell_type": "code",
   "execution_count": 23,
   "id": "3564ded5",
   "metadata": {},
   "outputs": [],
   "source": [
    "# creating a linear regression model"
   ]
  },
  {
   "cell_type": "code",
   "execution_count": 24,
   "id": "dc796369",
   "metadata": {},
   "outputs": [],
   "source": [
    "### creating an instance of the linear regression\n",
    "regressor = LinearRegression()\n"
   ]
  },
  {
   "cell_type": "code",
   "execution_count": 25,
   "id": "7b1f523f",
   "metadata": {},
   "outputs": [
    {
     "data": {
      "text/plain": [
       "LinearRegression()"
      ]
     },
     "execution_count": 25,
     "metadata": {},
     "output_type": "execute_result"
    }
   ],
   "source": [
    "### training the ML model on the train data \n",
    "# using our xtrain and ytrain lets fit the data\n",
    "\n",
    "regressor.fit(x_train, y_train)"
   ]
  },
  {
   "cell_type": "code",
   "execution_count": 26,
   "id": "e374b764",
   "metadata": {},
   "outputs": [
    {
     "name": "stdout",
     "output_type": "stream",
     "text": [
      "y_pred for the given test data is:\n",
      " [[315642.16057703]\n",
      " [498081.18992086]\n",
      " [543690.94725682]\n",
      " [498081.18992086]\n",
      " [498081.18992086]\n",
      " [498081.18992086]\n",
      " [498081.18992086]\n",
      " [498081.18992086]\n",
      " [452471.4325849 ]\n",
      " [543690.94725682]\n",
      " [361251.91791297]\n",
      " [589300.70459278]]\n"
     ]
    }
   ],
   "source": [
    "# let's make a prediction\n",
    "#regressor as best fit line we have fitted our data using x train and y train\n",
    "y_pred = regressor.predict(x_test)\n",
    "print('y_pred for the given test data is:\\n',y_pred)"
   ]
  },
  {
   "cell_type": "code",
   "execution_count": 27,
   "id": "6965e808",
   "metadata": {},
   "outputs": [
    {
     "data": {
      "text/plain": [
       "array([[2013],\n",
       "       [2017],\n",
       "       [2018],\n",
       "       [2017],\n",
       "       [2017],\n",
       "       [2017],\n",
       "       [2017],\n",
       "       [2017],\n",
       "       [2016],\n",
       "       [2018],\n",
       "       [2014],\n",
       "       [2019]], dtype=int64)"
      ]
     },
     "execution_count": 27,
     "metadata": {},
     "output_type": "execute_result"
    }
   ],
   "source": [
    "x_test"
   ]
  },
  {
   "cell_type": "code",
   "execution_count": 28,
   "id": "0ead6dac",
   "metadata": {},
   "outputs": [
    {
     "data": {
      "text/plain": [
       "[2013, 2017, 2018, 2017, 2017, 2017, 2017, 2017, 2016, 2018, 2014, 2019]"
      ]
     },
     "execution_count": 28,
     "metadata": {},
     "output_type": "execute_result"
    }
   ],
   "source": [
    "# flation \n",
    "import numpy \n",
    "x_test = list(numpy.concatenate(x_test).flat)\n",
    "x_test"
   ]
  },
  {
   "cell_type": "code",
   "execution_count": 29,
   "id": "eb222cbc",
   "metadata": {},
   "outputs": [
    {
     "data": {
      "text/plain": [
       "[325000,\n",
       " 500000,\n",
       " 550000,\n",
       " 550000,\n",
       " 495000,\n",
       " 540000,\n",
       " 490000,\n",
       " 490000,\n",
       " 550000,\n",
       " 450000,\n",
       " 450000,\n",
       " 500000]"
      ]
     },
     "execution_count": 29,
     "metadata": {},
     "output_type": "execute_result"
    }
   ],
   "source": [
    "y_test = list(numpy.concatenate(y_test).flat)\n",
    "y_test"
   ]
  },
  {
   "cell_type": "code",
   "execution_count": 30,
   "id": "80f6a745",
   "metadata": {},
   "outputs": [
    {
     "data": {
      "text/plain": [
       "[315642.160577029,\n",
       " 498081.18992085755,\n",
       " 543690.9472568184,\n",
       " 498081.18992085755,\n",
       " 498081.18992085755,\n",
       " 498081.18992085755,\n",
       " 498081.18992085755,\n",
       " 498081.18992085755,\n",
       " 452471.4325848967,\n",
       " 543690.9472568184,\n",
       " 361251.91791297495,\n",
       " 589300.7045927793]"
      ]
     },
     "execution_count": 30,
     "metadata": {},
     "output_type": "execute_result"
    }
   ],
   "source": [
    "y_pred = list(numpy.concatenate(y_pred).flat)\n",
    "y_pred"
   ]
  },
  {
   "cell_type": "code",
   "execution_count": 31,
   "id": "6992f376",
   "metadata": {
    "scrolled": true
   },
   "outputs": [
    {
     "data": {
      "text/html": [
       "<div>\n",
       "<style scoped>\n",
       "    .dataframe tbody tr th:only-of-type {\n",
       "        vertical-align: middle;\n",
       "    }\n",
       "\n",
       "    .dataframe tbody tr th {\n",
       "        vertical-align: top;\n",
       "    }\n",
       "\n",
       "    .dataframe thead th {\n",
       "        text-align: right;\n",
       "    }\n",
       "</style>\n",
       "<table border=\"1\" class=\"dataframe\">\n",
       "  <thead>\n",
       "    <tr style=\"text-align: right;\">\n",
       "      <th></th>\n",
       "      <th>Year</th>\n",
       "      <th>actual_data</th>\n",
       "      <th>predicted</th>\n",
       "    </tr>\n",
       "  </thead>\n",
       "  <tbody>\n",
       "    <tr>\n",
       "      <th>0</th>\n",
       "      <td>2013</td>\n",
       "      <td>325000</td>\n",
       "      <td>315642.160577</td>\n",
       "    </tr>\n",
       "    <tr>\n",
       "      <th>1</th>\n",
       "      <td>2017</td>\n",
       "      <td>500000</td>\n",
       "      <td>498081.189921</td>\n",
       "    </tr>\n",
       "    <tr>\n",
       "      <th>2</th>\n",
       "      <td>2018</td>\n",
       "      <td>550000</td>\n",
       "      <td>543690.947257</td>\n",
       "    </tr>\n",
       "    <tr>\n",
       "      <th>3</th>\n",
       "      <td>2017</td>\n",
       "      <td>550000</td>\n",
       "      <td>498081.189921</td>\n",
       "    </tr>\n",
       "    <tr>\n",
       "      <th>4</th>\n",
       "      <td>2017</td>\n",
       "      <td>495000</td>\n",
       "      <td>498081.189921</td>\n",
       "    </tr>\n",
       "    <tr>\n",
       "      <th>5</th>\n",
       "      <td>2017</td>\n",
       "      <td>540000</td>\n",
       "      <td>498081.189921</td>\n",
       "    </tr>\n",
       "    <tr>\n",
       "      <th>6</th>\n",
       "      <td>2017</td>\n",
       "      <td>490000</td>\n",
       "      <td>498081.189921</td>\n",
       "    </tr>\n",
       "    <tr>\n",
       "      <th>7</th>\n",
       "      <td>2017</td>\n",
       "      <td>490000</td>\n",
       "      <td>498081.189921</td>\n",
       "    </tr>\n",
       "    <tr>\n",
       "      <th>8</th>\n",
       "      <td>2016</td>\n",
       "      <td>550000</td>\n",
       "      <td>452471.432585</td>\n",
       "    </tr>\n",
       "    <tr>\n",
       "      <th>9</th>\n",
       "      <td>2018</td>\n",
       "      <td>450000</td>\n",
       "      <td>543690.947257</td>\n",
       "    </tr>\n",
       "    <tr>\n",
       "      <th>10</th>\n",
       "      <td>2014</td>\n",
       "      <td>450000</td>\n",
       "      <td>361251.917913</td>\n",
       "    </tr>\n",
       "    <tr>\n",
       "      <th>11</th>\n",
       "      <td>2019</td>\n",
       "      <td>500000</td>\n",
       "      <td>589300.704593</td>\n",
       "    </tr>\n",
       "  </tbody>\n",
       "</table>\n",
       "</div>"
      ],
      "text/plain": [
       "    Year  actual_data      predicted\n",
       "0   2013       325000  315642.160577\n",
       "1   2017       500000  498081.189921\n",
       "2   2018       550000  543690.947257\n",
       "3   2017       550000  498081.189921\n",
       "4   2017       495000  498081.189921\n",
       "5   2017       540000  498081.189921\n",
       "6   2017       490000  498081.189921\n",
       "7   2017       490000  498081.189921\n",
       "8   2016       550000  452471.432585\n",
       "9   2018       450000  543690.947257\n",
       "10  2014       450000  361251.917913\n",
       "11  2019       500000  589300.704593"
      ]
     },
     "execution_count": 31,
     "metadata": {},
     "output_type": "execute_result"
    }
   ],
   "source": [
    "data_new = pd.DataFrame({'Year':x_test,'actual_data':y_test,'predicted':y_pred})\n",
    "data_new"
   ]
  },
  {
   "cell_type": "code",
   "execution_count": 32,
   "id": "d29e2389",
   "metadata": {},
   "outputs": [],
   "source": [
    "# evaluate our model\n",
    "from sklearn.metrics import mean_squared_error,r2_score"
   ]
  },
  {
   "cell_type": "code",
   "execution_count": 33,
   "id": "b5d66624",
   "metadata": {},
   "outputs": [
    {
     "name": "stdout",
     "output_type": "stream",
     "text": [
      "The MSE for this model predictions is 3238713548.583687\n"
     ]
    }
   ],
   "source": [
    "# mean square error\n",
    "\n",
    "mse = mean_squared_error(y_test,y_pred)\n",
    "print('The MSE for this model predictions is',mse)"
   ]
  },
  {
   "cell_type": "code",
   "execution_count": 34,
   "id": "949ee64d",
   "metadata": {},
   "outputs": [
    {
     "name": "stdout",
     "output_type": "stream",
     "text": [
      "R squared value is 0.11554190973629641\n"
     ]
    }
   ],
   "source": [
    "# root mean squared  log error\n",
    "\n",
    "rsv = r2_score(y_test,y_pred)\n",
    "print('R squared value is',rsv)"
   ]
  },
  {
   "cell_type": "code",
   "execution_count": null,
   "id": "d5318321",
   "metadata": {},
   "outputs": [],
   "source": []
  },
  {
   "cell_type": "markdown",
   "id": "89bdf409",
   "metadata": {},
   "source": [
    "### Applying Lasso regression on the train data and predicting using x_test"
   ]
  },
  {
   "cell_type": "code",
   "execution_count": null,
   "id": "a0bbf0e7",
   "metadata": {},
   "outputs": [],
   "source": []
  },
  {
   "cell_type": "code",
   "execution_count": 35,
   "id": "c5941024",
   "metadata": {},
   "outputs": [],
   "source": [
    "## importing libraries\n",
    "\n",
    "from sklearn.linear_model import Lasso\n",
    "from sklearn.model_selection import train_test_split"
   ]
  },
  {
   "cell_type": "code",
   "execution_count": 36,
   "id": "c9a5ebc5",
   "metadata": {},
   "outputs": [
    {
     "name": "stdout",
     "output_type": "stream",
     "text": [
      "expected format is: \n",
      " [[465000]\n",
      " [755000]\n",
      " [700000]\n",
      " [465000]\n",
      " [465000]\n",
      " [350000]\n",
      " [425000]\n",
      " [575000]\n",
      " [509999]\n",
      " [575000]\n",
      " [500000]\n",
      " [500000]\n",
      " [500000]\n",
      " [600000]\n",
      " [475000]\n",
      " [500000]\n",
      " [500000]\n",
      " [550000]\n",
      " [500000]\n",
      " [500000]\n",
      " [500000]\n",
      " [500000]\n",
      " [434999]\n",
      " [550000]\n",
      " [550000]\n",
      " [550000]\n",
      " [550000]\n",
      " [550000]\n",
      " [550000]\n",
      " [550000]\n",
      " [650000]\n",
      " [550000]\n",
      " [550000]\n",
      " [550000]\n",
      " [450000]\n",
      " [550000]\n",
      " [550000]\n",
      " [486000]\n",
      " [475000]\n",
      " [545000]\n",
      " [525000]\n",
      " [600000]\n",
      " [550000]\n",
      " [550000]\n",
      " [550000]\n",
      " [450000]\n",
      " [500000]\n",
      " [450000]\n",
      " [396000]\n",
      " [600000]\n",
      " [325000]\n",
      " [550000]\n",
      " [345000]\n",
      " [345000]\n",
      " [525000]\n",
      " [550000]\n",
      " [341000]\n",
      " [550000]\n",
      " [450000]\n",
      " [550000]\n",
      " [490000]\n",
      " [540000]\n",
      " [540000]\n",
      " [595000]\n",
      " [490000]\n",
      " [495000]\n",
      " [525000]\n",
      " [400000]\n",
      " [465000]\n",
      " [300000]\n",
      " [450000]\n",
      " [490000]\n",
      " [300000]\n",
      " [320000]\n",
      " [490000]\n",
      " [490000]\n",
      " [450000]\n",
      " [325000]\n",
      " [409999]\n",
      " [400000]\n",
      " [390000]\n",
      " [390000]\n",
      " [390000]\n",
      " [480000]\n",
      " [325000]\n",
      " [320000]\n",
      " [520000]\n",
      " [520000]\n",
      " [520000]\n",
      " [520000]\n",
      " [520000]\n",
      " [520000]\n",
      " [520000]\n",
      " [520000]\n",
      " [520000]\n",
      " [520000]\n",
      " [520000]\n",
      " [640000]\n",
      " [700000]\n",
      " [600000]\n",
      " [350000]\n",
      " [400000]\n",
      " [350000]\n",
      " [375000]\n",
      " [400000]\n",
      " [400000]\n",
      " [300000]\n",
      " [375000]\n",
      " [300000]\n",
      " [425000]\n",
      " [420000]\n",
      " [425000]]\n"
     ]
    }
   ],
   "source": [
    "# reshaping it to  our expected format to feed into the model\n",
    "print('expected format is: \\n' , data['Price'].values.reshape(-1,1))\n",
    "\n",
    "x = data['Year'].values.reshape(-1,1)\n",
    "y = data['Price'].values.reshape(-1,1)"
   ]
  },
  {
   "cell_type": "code",
   "execution_count": 37,
   "id": "29c2e8d4",
   "metadata": {},
   "outputs": [],
   "source": [
    "# splitting the data into training and testing set\n",
    "\n",
    "x_train, x_test, y_train , y_test = train_test_split(x,y,test_size=0.1,random_state=50)"
   ]
  },
  {
   "cell_type": "code",
   "execution_count": 38,
   "id": "ccb94c22",
   "metadata": {},
   "outputs": [
    {
     "name": "stdout",
     "output_type": "stream",
     "text": [
      "x train is \n",
      " [[2017]\n",
      " [2019]\n",
      " [2020]\n",
      " [2015]\n",
      " [2017]\n",
      " [2014]\n",
      " [2015]\n",
      " [2020]\n",
      " [2017]\n",
      " [2017]\n",
      " [2019]\n",
      " [2018]\n",
      " [2018]\n",
      " [2017]\n",
      " [2017]\n",
      " [2017]\n",
      " [2019]\n",
      " [2013]\n",
      " [2015]\n",
      " [2013]\n",
      " [2015]\n",
      " [2015]\n",
      " [2017]\n",
      " [2017]\n",
      " [2014]\n",
      " [2015]\n",
      " [2015]\n",
      " [2017]\n",
      " [2014]\n",
      " [2017]\n",
      " [2017]\n",
      " [2017]\n",
      " [2017]\n",
      " [2017]\n",
      " [2017]\n",
      " [2017]\n",
      " [2019]\n",
      " [2017]\n",
      " [2013]\n",
      " [2014]\n",
      " [2018]\n",
      " [2017]\n",
      " [2017]\n",
      " [2020]\n",
      " [2017]\n",
      " [2017]\n",
      " [2017]\n",
      " [2019]\n",
      " [2019]\n",
      " [2017]\n",
      " [2017]\n",
      " [2017]\n",
      " [2017]\n",
      " [2015]\n",
      " [2016]\n",
      " [2015]\n",
      " [2015]\n",
      " [2018]\n",
      " [2018]\n",
      " [2019]\n",
      " [2015]\n",
      " [2015]\n",
      " [2017]\n",
      " [2015]\n",
      " [2016]\n",
      " [2020]\n",
      " [2019]\n",
      " [2015]\n",
      " [2016]\n",
      " [2017]\n",
      " [2017]\n",
      " [2015]\n",
      " [2019]\n",
      " [2015]\n",
      " [2018]\n",
      " [2017]\n",
      " [2019]\n",
      " [2018]\n",
      " [2016]\n",
      " [2017]\n",
      " [2017]\n",
      " [2017]\n",
      " [2017]\n",
      " [2017]\n",
      " [2015]\n",
      " [2015]\n",
      " [2017]\n",
      " [2017]\n",
      " [2019]\n",
      " [2015]\n",
      " [2015]\n",
      " [2014]\n",
      " [2015]\n",
      " [2015]\n",
      " [2018]\n",
      " [2017]\n",
      " [2017]\n",
      " [2018]\n",
      " [2017]\n",
      " [2016]]\n",
      "y train is\n",
      " [[450000]\n",
      " [550000]\n",
      " [700000]\n",
      " [300000]\n",
      " [550000]\n",
      " [300000]\n",
      " [325000]\n",
      " [545000]\n",
      " [500000]\n",
      " [540000]\n",
      " [500000]\n",
      " [475000]\n",
      " [465000]\n",
      " [520000]\n",
      " [500000]\n",
      " [509999]\n",
      " [525000]\n",
      " [345000]\n",
      " [325000]\n",
      " [320000]\n",
      " [350000]\n",
      " [300000]\n",
      " [475000]\n",
      " [520000]\n",
      " [341000]\n",
      " [425000]\n",
      " [390000]\n",
      " [595000]\n",
      " [400000]\n",
      " [520000]\n",
      " [550000]\n",
      " [550000]\n",
      " [486000]\n",
      " [525000]\n",
      " [550000]\n",
      " [575000]\n",
      " [755000]\n",
      " [480000]\n",
      " [345000]\n",
      " [390000]\n",
      " [450000]\n",
      " [550000]\n",
      " [520000]\n",
      " [640000]\n",
      " [550000]\n",
      " [550000]\n",
      " [575000]\n",
      " [600000]\n",
      " [500000]\n",
      " [550000]\n",
      " [550000]\n",
      " [550000]\n",
      " [375000]\n",
      " [450000]\n",
      " [420000]\n",
      " [425000]\n",
      " [300000]\n",
      " [465000]\n",
      " [550000]\n",
      " [500000]\n",
      " [390000]\n",
      " [400000]\n",
      " [525000]\n",
      " [490000]\n",
      " [375000]\n",
      " [600000]\n",
      " [650000]\n",
      " [400000]\n",
      " [350000]\n",
      " [500000]\n",
      " [520000]\n",
      " [490000]\n",
      " [600000]\n",
      " [320000]\n",
      " [600000]\n",
      " [550000]\n",
      " [550000]\n",
      " [500000]\n",
      " [425000]\n",
      " [520000]\n",
      " [550000]\n",
      " [520000]\n",
      " [520000]\n",
      " [550000]\n",
      " [409999]\n",
      " [465000]\n",
      " [490000]\n",
      " [520000]\n",
      " [700000]\n",
      " [350000]\n",
      " [434999]\n",
      " [400000]\n",
      " [400000]\n",
      " [450000]\n",
      " [465000]\n",
      " [520000]\n",
      " [550000]\n",
      " [500000]\n",
      " [520000]\n",
      " [396000]]\n"
     ]
    }
   ],
   "source": [
    "print('x train is \\n', x_train)\n",
    "print('y train is\\n', y_train)"
   ]
  },
  {
   "cell_type": "code",
   "execution_count": 39,
   "id": "882f98de",
   "metadata": {},
   "outputs": [],
   "source": [
    "# creating a linear regression model"
   ]
  },
  {
   "cell_type": "code",
   "execution_count": 40,
   "id": "c91912dd",
   "metadata": {},
   "outputs": [],
   "source": [
    "### creating an instance of the linear regression\n",
    "\n",
    "Lasso = Lasso(alpha=1.0)"
   ]
  },
  {
   "cell_type": "code",
   "execution_count": 41,
   "id": "20e3fbae",
   "metadata": {},
   "outputs": [
    {
     "data": {
      "text/plain": [
       "Lasso()"
      ]
     },
     "execution_count": 41,
     "metadata": {},
     "output_type": "execute_result"
    }
   ],
   "source": [
    "### training the ML model on the train data \n",
    "# using our xtrain and ytrain lets fit the data\n",
    "\n",
    "Lasso.fit(x_train,y_train)"
   ]
  },
  {
   "cell_type": "code",
   "execution_count": 42,
   "id": "cc17c0e8",
   "metadata": {},
   "outputs": [
    {
     "name": "stdout",
     "output_type": "stream",
     "text": [
      "y_pred for the given test data is:\n",
      " [315643.55014956 498081.06497292 543690.44367877 498081.06497292\n",
      " 498081.06497292 498081.06497292 498081.06497292 498081.06497292\n",
      " 452471.68626708 543690.44367877 361252.9288554  589299.82238461]\n"
     ]
    }
   ],
   "source": [
    "# let's make a prediction\n",
    "\n",
    "y_pred2= Lasso.predict(x_test)\n",
    "print('y_pred for the given test data is:\\n',y_pred2) "
   ]
  },
  {
   "cell_type": "code",
   "execution_count": 43,
   "id": "f089d130",
   "metadata": {},
   "outputs": [
    {
     "name": "stdout",
     "output_type": "stream",
     "text": [
      "The MSE for this model predictions is 3238673434.0918307\n"
     ]
    }
   ],
   "source": [
    "MSE = mean_squared_error(y_test,y_pred2)\n",
    "print('The MSE for this model predictions is',MSE)"
   ]
  },
  {
   "cell_type": "code",
   "execution_count": 44,
   "id": "abdc4ded",
   "metadata": {},
   "outputs": [
    {
     "name": "stdout",
     "output_type": "stream",
     "text": [
      "R squared value is 0.11555286457571856\n"
     ]
    }
   ],
   "source": [
    "RSV = r2_score(y_test,y_pred2)\n",
    "print('R squared value is',RSV)"
   ]
  },
  {
   "cell_type": "code",
   "execution_count": null,
   "id": "8d34278f",
   "metadata": {},
   "outputs": [],
   "source": []
  },
  {
   "cell_type": "code",
   "execution_count": null,
   "id": "814230b7",
   "metadata": {},
   "outputs": [],
   "source": []
  }
 ],
 "metadata": {
  "kernelspec": {
   "display_name": "Python 3 (ipykernel)",
   "language": "python",
   "name": "python3"
  },
  "language_info": {
   "codemirror_mode": {
    "name": "ipython",
    "version": 3
   },
   "file_extension": ".py",
   "mimetype": "text/x-python",
   "name": "python",
   "nbconvert_exporter": "python",
   "pygments_lexer": "ipython3",
   "version": "3.9.12"
  }
 },
 "nbformat": 4,
 "nbformat_minor": 5
}
